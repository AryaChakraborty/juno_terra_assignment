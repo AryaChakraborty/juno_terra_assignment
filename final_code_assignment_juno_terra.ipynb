{
 "cells": [
  {
   "cell_type": "code",
   "execution_count": 49,
   "id": "0a13ae6a",
   "metadata": {},
   "outputs": [],
   "source": [
    "import requests\n",
    "import pandas as pd\n",
    "import matplotlib.pyplot as plt\n",
    "from sklearn.preprocessing import MinMaxScaler\n",
    "from sklearn.cluster import KMeans"
   ]
  },
  {
   "cell_type": "code",
   "execution_count": 2,
   "id": "a6daf046",
   "metadata": {},
   "outputs": [],
   "source": [
    "def dataframe_builder(longitude, latitude) :\n",
    "    \n",
    "    ozone_emmision = requests.get('https://api.v2.emissions-api.org/api/v2/ozone/average.json?interval=day&begin=2020-01-01&end=2020-01-31&point={},{}'.format(longitude, latitude)).json()\n",
    "    carbonmonoxide_emmision = requests.get('https://api.v2.emissions-api.org/api/v2/carbonmonoxide/average.json?interval=day&begin=2020-01-01&end=2020-01-31&point={},{}'.format(longitude, latitude)).json()\n",
    "    nitrogendioxide_emmision = requests.get('https://api.v2.emissions-api.org/api/v2/nitrogendioxide/average.json?interval=day&begin=2020-01-01&end=2020-01-31&point={},{}'.format(longitude, latitude)).json()\n",
    "    methane_emmision = requests.get('https://api.v2.emissions-api.org/api/v2/methane/average.json?interval=day&begin=2020-01-01&end=2020-01-31&point={},{}'.format(longitude, latitude)).json()\n",
    "    \n",
    "    emmision = {} # final dictionary\n",
    "    \n",
    "    for it in ozone_emmision : \n",
    "        date = it['end'].split('T')[0].split('-')[-1]\n",
    "        if date not in emmision.keys() :\n",
    "            emmision[date] = {}\n",
    "            emmision[date]['ozone'] = it['average']\n",
    "        else :\n",
    "            emmision[date]['ozone'] = it['average']\n",
    "            \n",
    "    for it in carbonmonoxide_emmision : \n",
    "        date = it['end'].split('T')[0].split('-')[-1]\n",
    "        if date not in emmision.keys() :\n",
    "            emmision[date] = {}\n",
    "            emmision[date]['carbonmonoxide'] = it['average']\n",
    "        else :\n",
    "            emmision[date]['carbonmonoxide'] = it['average']\n",
    "            \n",
    "    for it in nitrogendioxide_emmision : \n",
    "        date = it['end'].split('T')[0].split('-')[-1]\n",
    "        if date not in emmision.keys() :\n",
    "            emmision[date] = {}\n",
    "            emmision[date]['nitrogendioxide'] = it['average']\n",
    "        else :\n",
    "            emmision[date]['nitrogendioxide'] = it['average']\n",
    "            \n",
    "    for it in methane_emmision : \n",
    "        date = it['end'].split('T')[0].split('-')[-1]\n",
    "        if date not in emmision.keys() :\n",
    "            emmision[date] = {}\n",
    "            emmision[date]['methane'] = it['average']\n",
    "        else :\n",
    "            emmision[date]['methane'] = it['average']\n",
    "            \n",
    "            \n",
    "    emmision_dataframe = pd.DataFrame(emmision)\n",
    "    # transposing the dataframe\n",
    "    emmision_dataframe = emmision_dataframe.T\n",
    "    # sorting the dataframe\n",
    "    emmision_dataframe = emmision_dataframe.sort_index()\n",
    "    # storing days list\n",
    "    day_list = emmision_dataframe.index\n",
    "    day_list = [int(itr) for itr in day_list]\n",
    "    \n",
    "    emmision_dataframe['day'] = day_list\n",
    "    return emmision_dataframe"
   ]
  },
  {
   "cell_type": "markdown",
   "id": "83973df2",
   "metadata": {},
   "source": [
    "# January 2020 emmisions report"
   ]
  },
  {
   "cell_type": "code",
   "execution_count": 3,
   "id": "fcd8a64b",
   "metadata": {},
   "outputs": [],
   "source": [
    "january_emmision = {}"
   ]
  },
  {
   "cell_type": "markdown",
   "id": "223d3102",
   "metadata": {},
   "source": [
    "### New Delhi - 28.7041° N, 77.1025° E"
   ]
  },
  {
   "cell_type": "code",
   "execution_count": 4,
   "id": "17278a93",
   "metadata": {},
   "outputs": [],
   "source": [
    "january_emmision['delhi_emmision_data'] = dataframe_builder(77.1025, 28.7041)"
   ]
  },
  {
   "cell_type": "markdown",
   "id": "b7844f8d",
   "metadata": {},
   "source": [
    "### Tokyo - 35.6762° N, 139.6503° E"
   ]
  },
  {
   "cell_type": "code",
   "execution_count": 5,
   "id": "b5308d61",
   "metadata": {},
   "outputs": [],
   "source": [
    "january_emmision['tokyo_emmision_data'] = dataframe_builder(139.6503, 35.6762)"
   ]
  },
  {
   "cell_type": "markdown",
   "id": "9969370d",
   "metadata": {},
   "source": [
    "### Jakarta - 6.2088° S, 106.8456° E"
   ]
  },
  {
   "cell_type": "code",
   "execution_count": 6,
   "id": "ac3decf0",
   "metadata": {},
   "outputs": [],
   "source": [
    "january_emmision['jakarta_emmision_data'] = dataframe_builder(106.8456, -6.2088)"
   ]
  },
  {
   "cell_type": "markdown",
   "id": "39ec1711",
   "metadata": {},
   "source": [
    "### Manila - 14.5995° N, 120.9842° E"
   ]
  },
  {
   "cell_type": "code",
   "execution_count": 7,
   "id": "bdf3f42d",
   "metadata": {},
   "outputs": [],
   "source": [
    "january_emmision['manila_emmision_data'] = dataframe_builder(120.9842, 14.5995)"
   ]
  },
  {
   "cell_type": "markdown",
   "id": "caa86e56",
   "metadata": {},
   "source": [
    "### Seoul - 37.5665° N, 126.9780° E"
   ]
  },
  {
   "cell_type": "code",
   "execution_count": 8,
   "id": "53d328d3",
   "metadata": {},
   "outputs": [],
   "source": [
    "january_emmision['seoul_emmision_data'] = dataframe_builder(126.9780, 37.5665)"
   ]
  },
  {
   "cell_type": "markdown",
   "id": "37009112",
   "metadata": {},
   "source": [
    "### Sanghai - 31.2304° N, 121.4737° E"
   ]
  },
  {
   "cell_type": "code",
   "execution_count": 9,
   "id": "4615eadf",
   "metadata": {},
   "outputs": [],
   "source": [
    "january_emmision['sanghai_emmision_data'] = dataframe_builder(121.4737, 31.2304)"
   ]
  },
  {
   "cell_type": "markdown",
   "id": "fdf2e663",
   "metadata": {},
   "source": [
    "### Karachi - 24.8607° N, 67.0011° E"
   ]
  },
  {
   "cell_type": "code",
   "execution_count": 10,
   "id": "626cddb3",
   "metadata": {},
   "outputs": [],
   "source": [
    "january_emmision['karachi_emmision_data'] = dataframe_builder(67.0011, 24.8607)"
   ]
  },
  {
   "cell_type": "markdown",
   "id": "3500b0b3",
   "metadata": {},
   "source": [
    "### Beijing - 39.9042° N, 116.4074° E"
   ]
  },
  {
   "cell_type": "code",
   "execution_count": 11,
   "id": "8f950aa7",
   "metadata": {},
   "outputs": [],
   "source": [
    "january_emmision['beijing_emmision_data'] = dataframe_builder(116.4074, 39.9042)"
   ]
  },
  {
   "cell_type": "markdown",
   "id": "3f5b7163",
   "metadata": {},
   "source": [
    "### NYC - 40.7128° N, 74.0060° W"
   ]
  },
  {
   "cell_type": "code",
   "execution_count": 12,
   "id": "5998436e",
   "metadata": {},
   "outputs": [],
   "source": [
    "january_emmision['nyc_emmision_data'] = dataframe_builder(-74.0060, 40.7128)"
   ]
  },
  {
   "cell_type": "markdown",
   "id": "acd1219e",
   "metadata": {},
   "source": [
    "### Guangzhou - 23.1291° N, 113.2644° E"
   ]
  },
  {
   "cell_type": "code",
   "execution_count": 13,
   "id": "66fb0640",
   "metadata": {},
   "outputs": [],
   "source": [
    "january_emmision['guangzhou_emmision_data'] = dataframe_builder(113.2644, 23.1291)"
   ]
  },
  {
   "cell_type": "markdown",
   "id": "d684224a",
   "metadata": {},
   "source": [
    "### Sao Paulo - 23.5558° S, 46.6396° W"
   ]
  },
  {
   "cell_type": "code",
   "execution_count": 14,
   "id": "412baa13",
   "metadata": {},
   "outputs": [],
   "source": [
    "january_emmision['saopaulo_emmision_data'] = dataframe_builder(-46.6396, -23.5558)"
   ]
  },
  {
   "cell_type": "markdown",
   "id": "b4ff5341",
   "metadata": {},
   "source": [
    "### Mexico city - 19.4326° N, 99.1332° W"
   ]
  },
  {
   "cell_type": "code",
   "execution_count": 15,
   "id": "596afe35",
   "metadata": {},
   "outputs": [],
   "source": [
    "january_emmision['mexico_emmision_data'] = dataframe_builder(-99.1332, 19.4326)"
   ]
  },
  {
   "cell_type": "markdown",
   "id": "cfdedd99",
   "metadata": {},
   "source": [
    "### Mumbai - 19.0760° N, 72.8777° E"
   ]
  },
  {
   "cell_type": "code",
   "execution_count": 16,
   "id": "8cef26e1",
   "metadata": {},
   "outputs": [],
   "source": [
    "january_emmision['mumbai_emmision_data'] = dataframe_builder(72.8777, 19.0760)"
   ]
  },
  {
   "cell_type": "markdown",
   "id": "d88273d4",
   "metadata": {},
   "source": [
    "### Kyoto - 35.0116° N, 135.7681° E"
   ]
  },
  {
   "cell_type": "code",
   "execution_count": 17,
   "id": "a0f9e580",
   "metadata": {},
   "outputs": [],
   "source": [
    "january_emmision['kyoto_emmision_data'] = dataframe_builder(135.7681, 35.0116)"
   ]
  },
  {
   "cell_type": "markdown",
   "id": "93cf53e1",
   "metadata": {},
   "source": [
    "### Moscow - 55.7558° N, 37.6173° E"
   ]
  },
  {
   "cell_type": "code",
   "execution_count": 18,
   "id": "821740d7",
   "metadata": {},
   "outputs": [],
   "source": [
    "january_emmision['moscow_emmision_data'] = dataframe_builder(37.6173, 55.7558)"
   ]
  },
  {
   "cell_type": "markdown",
   "id": "3f398f01",
   "metadata": {},
   "source": [
    "### Dhaka - 23.8103° N, 90.4125° E"
   ]
  },
  {
   "cell_type": "code",
   "execution_count": 19,
   "id": "8bc31e6d",
   "metadata": {},
   "outputs": [],
   "source": [
    "january_emmision['dhaka_emmision_data'] = dataframe_builder(90.4125, 23.8103)"
   ]
  },
  {
   "cell_type": "markdown",
   "id": "a3584f44",
   "metadata": {},
   "source": [
    "### Cairo - 30.0444° N, 31.2357° E"
   ]
  },
  {
   "cell_type": "code",
   "execution_count": 20,
   "id": "a968ade7",
   "metadata": {},
   "outputs": [],
   "source": [
    "january_emmision['cairo_emmision_data'] = dataframe_builder(31.2357, 30.0444)"
   ]
  },
  {
   "cell_type": "markdown",
   "id": "eedc90f0",
   "metadata": {},
   "source": [
    "### LA - 34.0522° N, 118.2437° W"
   ]
  },
  {
   "cell_type": "code",
   "execution_count": 21,
   "id": "e78b2092",
   "metadata": {},
   "outputs": [],
   "source": [
    "january_emmision['la_emmision_data'] = dataframe_builder(-118.2437, 34.0522)"
   ]
  },
  {
   "cell_type": "markdown",
   "id": "9976916b",
   "metadata": {},
   "source": [
    "### Bangkok - 13.7563° N, 100.5018° E"
   ]
  },
  {
   "cell_type": "code",
   "execution_count": 23,
   "id": "70b11a8e",
   "metadata": {},
   "outputs": [],
   "source": [
    "january_emmision['bangkok_emmision_data'] = dataframe_builder(100.5018, 13.7563)"
   ]
  },
  {
   "cell_type": "markdown",
   "id": "4f7ea5b0",
   "metadata": {},
   "source": [
    "### Kolkata - 22.5726° N, 88.3639° E"
   ]
  },
  {
   "cell_type": "code",
   "execution_count": 24,
   "id": "4cce06b7",
   "metadata": {},
   "outputs": [],
   "source": [
    "january_emmision['kolkata_emmision_data'] = dataframe_builder(88.3639, 22.5726)"
   ]
  },
  {
   "cell_type": "markdown",
   "id": "9e08a7ec",
   "metadata": {},
   "source": [
    "# city list"
   ]
  },
  {
   "cell_type": "code",
   "execution_count": 25,
   "id": "1cc6df49",
   "metadata": {},
   "outputs": [],
   "source": [
    "city_list = ['delhi', 'tokyo', 'jakarta', 'manila', 'seoul', 'sanghai', 'karachi', 'beijing', 'nyc', 'guangzhou', \n",
    "             'saopaulo', 'mexico', 'mumbai', 'kyoto', 'moscow', 'dhaka', 'cairo', 'la', 'bangkok', 'kolkata']"
   ]
  },
  {
   "cell_type": "markdown",
   "id": "fecddd8f",
   "metadata": {},
   "source": [
    "## emmisions per city per gas"
   ]
  },
  {
   "cell_type": "code",
   "execution_count": 26,
   "id": "7246e534",
   "metadata": {},
   "outputs": [],
   "source": [
    "methane_emmision_january = {}\n",
    "\n",
    "for itr in city_list :\n",
    "    city = itr + '_emmision_data'\n",
    "    if january_emmision[city].shape[1] == 5 :\n",
    "        methane_emmision_january[itr] = january_emmision[city]['methane'].mean()"
   ]
  },
  {
   "cell_type": "code",
   "execution_count": 27,
   "id": "5408a5d5",
   "metadata": {},
   "outputs": [],
   "source": [
    "ozone_emmision_january = {}\n",
    "\n",
    "for itr in city_list :\n",
    "    city = itr + '_emmision_data'\n",
    "    ozone_emmision_january[itr] = january_emmision[city]['ozone'].mean()"
   ]
  },
  {
   "cell_type": "code",
   "execution_count": 28,
   "id": "adde37f4",
   "metadata": {},
   "outputs": [],
   "source": [
    "carbonmonoxide_emmision_january = {}\n",
    "\n",
    "for itr in city_list :\n",
    "    city = itr + '_emmision_data'\n",
    "    carbonmonoxide_emmision_january[itr] = january_emmision[city]['carbonmonoxide'].mean()"
   ]
  },
  {
   "cell_type": "code",
   "execution_count": 29,
   "id": "c444bcac",
   "metadata": {},
   "outputs": [],
   "source": [
    "nitrogendioxide_emmision_january = {}\n",
    "\n",
    "for itr in city_list :\n",
    "    city = itr + '_emmision_data'\n",
    "    nitrogendioxide_emmision_january[itr] = january_emmision[city]['nitrogendioxide'].mean()"
   ]
  },
  {
   "cell_type": "code",
   "execution_count": 30,
   "id": "72e7fce0",
   "metadata": {},
   "outputs": [],
   "source": [
    "def top_x_content(gas_emmision_january, fname, top_x = 5) :\n",
    "    \n",
    "    gas_emmision_keys = gas_emmision_january.keys()\n",
    "    gas_emmision_values = gas_emmision_january.values()\n",
    "\n",
    "    gas_emmision_january_reverse = {}\n",
    "    for key in gas_emmision_january.keys() :\n",
    "        gas_emmision_january_reverse[gas_emmision_january[key]] = key\n",
    "        \n",
    "    gas_emmision_keys_new = sorted(gas_emmision_january_reverse.keys(), reverse=True)[:top_x]\n",
    "    gas_emmision_cities = []\n",
    "    \n",
    "    for it in gas_emmision_keys_new :\n",
    "        gas_emmision_cities.append(gas_emmision_january_reverse[it])\n",
    "\n",
    "    gas_emmision_keys_new = [it-min(gas_emmision_values) for it in gas_emmision_keys_new]\n",
    "    \n",
    "    gas_emmision_cities.reverse()\n",
    "    gas_emmision_keys_new.reverse()\n",
    "    plt.figure(figsize=(10, 5))\n",
    "    plt.barh(gas_emmision_cities, gas_emmision_keys_new)\n",
    "#     plt.savefig('{}.jpeg'.format(fname))\n",
    "    plt.show()"
   ]
  },
  {
   "cell_type": "code",
   "execution_count": 31,
   "id": "ea22f61c",
   "metadata": {},
   "outputs": [
    {
     "data": {
      "image/png": "[encoded data removed]",
      "text/plain": [
       "<Figure size 720x360 with 1 Axes>"
      ]
     },
     "metadata": {
      "needs_background": "light"
     },
     "output_type": "display_data"
    }
   ],
   "source": [
    "top_x_content(ozone_emmision_january, 'ozone', -1)"
   ]
  },
  {
   "cell_type": "code",
   "execution_count": 32,
   "id": "b92081db",
   "metadata": {},
   "outputs": [
    {
     "data": {
      "image/png": "[encoded data removed]",
      "text/plain": [
       "<Figure size 720x360 with 1 Axes>"
      ]
     },
     "metadata": {
      "needs_background": "light"
     },
     "output_type": "display_data"
    }
   ],
   "source": [
    "top_x_content(carbonmonoxide_emmision_january, 'carbonmonoxide', -1)"
   ]
  },
  {
   "cell_type": "code",
   "execution_count": 33,
   "id": "ea10d782",
   "metadata": {},
   "outputs": [
    {
     "data": {
      "image/png": "[encoded data removed]",
      "text/plain": [
       "<Figure size 720x360 with 1 Axes>"
      ]
     },
     "metadata": {
      "needs_background": "light"
     },
     "output_type": "display_data"
    }
   ],
   "source": [
    "top_x_content(nitrogendioxide_emmision_january, 'nitrogendioxide', -1)"
   ]
  },
  {
   "cell_type": "code",
   "execution_count": 34,
   "id": "9b6a5f35",
   "metadata": {},
   "outputs": [
    {
     "data": {
      "image/png": "[encoded data removed]",
      "text/plain": [
       "<Figure size 720x360 with 1 Axes>"
      ]
     },
     "metadata": {
      "needs_background": "light"
     },
     "output_type": "display_data"
    }
   ],
   "source": [
    "top_x_content(methane_emmision_january, 'methane', -1)"
   ]
  },
  {
   "cell_type": "markdown",
   "id": "1c755a2f",
   "metadata": {},
   "source": [
    "## Unsupervised Clustering"
   ]
  },
  {
   "cell_type": "code",
   "execution_count": 37,
   "id": "6d96c38f",
   "metadata": {},
   "outputs": [],
   "source": [
    "# making dataset\n",
    "\n",
    "\n",
    "data_diction = {}\n",
    "for key in city_list :\n",
    "    if key not in data_diction.keys() :\n",
    "        data_diction[key] = {}\n",
    "        data_diction[key]['ozone'] = ozone_emmision_january[key]\n",
    "        data_diction[key]['carbonmonoxide'] = carbonmonoxide_emmision_january[key]\n",
    "        data_diction[key]['nitrogendioxide'] = nitrogendioxide_emmision_january[key]\n",
    "        if key in methane_emmision_january.keys() :\n",
    "            data_diction[key]['methane'] = methane_emmision_january[key]"
   ]
  },
  {
   "cell_type": "code",
   "execution_count": 39,
   "id": "7005ea4b",
   "metadata": {},
   "outputs": [
    {
     "data": {
      "text/html": [
       "<div>\n",
       "<style scoped>\n",
       "    .dataframe tbody tr th:only-of-type {\n",
       "        vertical-align: middle;\n",
       "    }\n",
       "\n",
       "    .dataframe tbody tr th {\n",
       "        vertical-align: top;\n",
       "    }\n",
       "\n",
       "    .dataframe thead th {\n",
       "        text-align: right;\n",
       "    }\n",
       "</style>\n",
       "<table border=\"1\" class=\"dataframe\">\n",
       "  <thead>\n",
       "    <tr style=\"text-align: right;\">\n",
       "      <th></th>\n",
       "      <th>ozone</th>\n",
       "      <th>carbonmonoxide</th>\n",
       "      <th>nitrogendioxide</th>\n",
       "      <th>methane</th>\n",
       "    </tr>\n",
       "  </thead>\n",
       "  <tbody>\n",
       "    <tr>\n",
       "      <th>delhi</th>\n",
       "      <td>0.130880</td>\n",
       "      <td>0.040415</td>\n",
       "      <td>0.000108</td>\n",
       "      <td>1885.979546</td>\n",
       "    </tr>\n",
       "    <tr>\n",
       "      <th>tokyo</th>\n",
       "      <td>0.142151</td>\n",
       "      <td>0.040509</td>\n",
       "      <td>0.000113</td>\n",
       "      <td>1878.289917</td>\n",
       "    </tr>\n",
       "    <tr>\n",
       "      <th>jakarta</th>\n",
       "      <td>0.114067</td>\n",
       "      <td>0.032061</td>\n",
       "      <td>0.000081</td>\n",
       "      <td>NaN</td>\n",
       "    </tr>\n",
       "    <tr>\n",
       "      <th>manila</th>\n",
       "      <td>0.108664</td>\n",
       "      <td>0.034355</td>\n",
       "      <td>0.000056</td>\n",
       "      <td>NaN</td>\n",
       "    </tr>\n",
       "    <tr>\n",
       "      <th>seoul</th>\n",
       "      <td>0.152997</td>\n",
       "      <td>0.046808</td>\n",
       "      <td>0.000277</td>\n",
       "      <td>1857.258789</td>\n",
       "    </tr>\n",
       "    <tr>\n",
       "      <th>sanghai</th>\n",
       "      <td>0.126184</td>\n",
       "      <td>0.057562</td>\n",
       "      <td>0.000198</td>\n",
       "      <td>NaN</td>\n",
       "    </tr>\n",
       "    <tr>\n",
       "      <th>karachi</th>\n",
       "      <td>0.119256</td>\n",
       "      <td>0.039905</td>\n",
       "      <td>0.000100</td>\n",
       "      <td>1889.552816</td>\n",
       "    </tr>\n",
       "    <tr>\n",
       "      <th>beijing</th>\n",
       "      <td>0.161276</td>\n",
       "      <td>0.061634</td>\n",
       "      <td>0.000301</td>\n",
       "      <td>1870.051758</td>\n",
       "    </tr>\n",
       "    <tr>\n",
       "      <th>nyc</th>\n",
       "      <td>0.150578</td>\n",
       "      <td>0.037412</td>\n",
       "      <td>0.000122</td>\n",
       "      <td>1844.440918</td>\n",
       "    </tr>\n",
       "    <tr>\n",
       "      <th>guangzhou</th>\n",
       "      <td>0.108436</td>\n",
       "      <td>0.052110</td>\n",
       "      <td>0.000163</td>\n",
       "      <td>NaN</td>\n",
       "    </tr>\n",
       "    <tr>\n",
       "      <th>saopaulo</th>\n",
       "      <td>0.117253</td>\n",
       "      <td>0.029158</td>\n",
       "      <td>0.000046</td>\n",
       "      <td>NaN</td>\n",
       "    </tr>\n",
       "    <tr>\n",
       "      <th>mexico</th>\n",
       "      <td>0.112648</td>\n",
       "      <td>0.027284</td>\n",
       "      <td>0.000186</td>\n",
       "      <td>1883.683919</td>\n",
       "    </tr>\n",
       "    <tr>\n",
       "      <th>mumbai</th>\n",
       "      <td>0.111732</td>\n",
       "      <td>0.042815</td>\n",
       "      <td>0.000085</td>\n",
       "      <td>NaN</td>\n",
       "    </tr>\n",
       "    <tr>\n",
       "      <th>kyoto</th>\n",
       "      <td>0.138486</td>\n",
       "      <td>0.038889</td>\n",
       "      <td>0.000048</td>\n",
       "      <td>NaN</td>\n",
       "    </tr>\n",
       "    <tr>\n",
       "      <th>moscow</th>\n",
       "      <td>0.149628</td>\n",
       "      <td>0.035629</td>\n",
       "      <td>0.000126</td>\n",
       "      <td>NaN</td>\n",
       "    </tr>\n",
       "    <tr>\n",
       "      <th>dhaka</th>\n",
       "      <td>0.115635</td>\n",
       "      <td>0.047454</td>\n",
       "      <td>0.000107</td>\n",
       "      <td>1909.977295</td>\n",
       "    </tr>\n",
       "    <tr>\n",
       "      <th>cairo</th>\n",
       "      <td>0.138872</td>\n",
       "      <td>0.034626</td>\n",
       "      <td>0.000112</td>\n",
       "      <td>1863.017822</td>\n",
       "    </tr>\n",
       "    <tr>\n",
       "      <th>la</th>\n",
       "      <td>0.136237</td>\n",
       "      <td>0.034586</td>\n",
       "      <td>0.000204</td>\n",
       "      <td>1880.673747</td>\n",
       "    </tr>\n",
       "    <tr>\n",
       "      <th>bangkok</th>\n",
       "      <td>0.110551</td>\n",
       "      <td>0.049024</td>\n",
       "      <td>0.000124</td>\n",
       "      <td>1888.481271</td>\n",
       "    </tr>\n",
       "    <tr>\n",
       "      <th>kolkata</th>\n",
       "      <td>0.113766</td>\n",
       "      <td>0.049196</td>\n",
       "      <td>0.000091</td>\n",
       "      <td>1909.321091</td>\n",
       "    </tr>\n",
       "  </tbody>\n",
       "</table>\n",
       "</div>"
      ],
      "text/plain": [
       "              ozone  carbonmonoxide  nitrogendioxide      methane\n",
       "delhi      0.130880        0.040415         0.000108  1885.979546\n",
       "tokyo      0.142151        0.040509         0.000113  1878.289917\n",
       "jakarta    0.114067        0.032061         0.000081          NaN\n",
       "manila     0.108664        0.034355         0.000056          NaN\n",
       "seoul      0.152997        0.046808         0.000277  1857.258789\n",
       "sanghai    0.126184        0.057562         0.000198          NaN\n",
       "karachi    0.119256        0.039905         0.000100  1889.552816\n",
       "beijing    0.161276        0.061634         0.000301  1870.051758\n",
       "nyc        0.150578        0.037412         0.000122  1844.440918\n",
       "guangzhou  0.108436        0.052110         0.000163          NaN\n",
       "saopaulo   0.117253        0.029158         0.000046          NaN\n",
       "mexico     0.112648        0.027284         0.000186  1883.683919\n",
       "mumbai     0.111732        0.042815         0.000085          NaN\n",
       "kyoto      0.138486        0.038889         0.000048          NaN\n",
       "moscow     0.149628        0.035629         0.000126          NaN\n",
       "dhaka      0.115635        0.047454         0.000107  1909.977295\n",
       "cairo      0.138872        0.034626         0.000112  1863.017822\n",
       "la         0.136237        0.034586         0.000204  1880.673747\n",
       "bangkok    0.110551        0.049024         0.000124  1888.481271\n",
       "kolkata    0.113766        0.049196         0.000091  1909.321091"
      ]
     },
     "execution_count": 39,
     "metadata": {},
     "output_type": "execute_result"
    }
   ],
   "source": [
    "dataframe2 = pd.DataFrame(data_diction)\n",
    "dataframe2 = dataframe2.T\n",
    "dataframe2"
   ]
  },
  {
   "cell_type": "markdown",
   "id": "88d57f4e",
   "metadata": {},
   "source": [
    "## Preprocessing using minmax scaler"
   ]
  },
  {
   "cell_type": "code",
   "execution_count": 45,
   "id": "d8ce3db4",
   "metadata": {},
   "outputs": [],
   "source": [
    "scaler = MinMaxScaler()\n",
    "\n",
    "scaler.fit(dataframe2[['ozone']])\n",
    "dataframe2['ozone'] = scaler.transform(dataframe2[['ozone']])\n",
    "\n",
    "scaler.fit(dataframe2[['carbonmonoxide']])\n",
    "dataframe2['carbonmonoxide'] = scaler.transform(dataframe2[['carbonmonoxide']])\n",
    "\n",
    "scaler.fit(dataframe2[['nitrogendioxide']])\n",
    "dataframe2['nitrogendioxide'] = scaler.transform(dataframe2[['nitrogendioxide']])\n",
    "\n",
    "scaler.fit(dataframe2[['methane']])\n",
    "dataframe2['methane'] = scaler.transform(dataframe2[['methane']])"
   ]
  },
  {
   "cell_type": "markdown",
   "id": "70dac29f",
   "metadata": {},
   "source": [
    "## Calculating squared error"
   ]
  },
  {
   "cell_type": "code",
   "execution_count": 51,
   "id": "9fcc3be6",
   "metadata": {},
   "outputs": [
    {
     "name": "stderr",
     "output_type": "stream",
     "text": [
      "C:\\Users\\aryac\\anaconda3\\lib\\site-packages\\sklearn\\cluster\\_kmeans.py:1332: UserWarning: KMeans is known to have a memory leak on Windows with MKL, when there are less chunks than available threads. You can avoid it by setting the environment variable OMP_NUM_THREADS=1.\n",
      "  warnings.warn(\n",
      "C:\\Users\\aryac\\anaconda3\\lib\\site-packages\\sklearn\\cluster\\_kmeans.py:1332: UserWarning: KMeans is known to have a memory leak on Windows with MKL, when there are less chunks than available threads. You can avoid it by setting the environment variable OMP_NUM_THREADS=1.\n",
      "  warnings.warn(\n",
      "C:\\Users\\aryac\\anaconda3\\lib\\site-packages\\sklearn\\cluster\\_kmeans.py:1332: UserWarning: KMeans is known to have a memory leak on Windows with MKL, when there are less chunks than available threads. You can avoid it by setting the environment variable OMP_NUM_THREADS=1.\n",
      "  warnings.warn(\n",
      "C:\\Users\\aryac\\anaconda3\\lib\\site-packages\\sklearn\\cluster\\_kmeans.py:1332: UserWarning: KMeans is known to have a memory leak on Windows with MKL, when there are less chunks than available threads. You can avoid it by setting the environment variable OMP_NUM_THREADS=1.\n",
      "  warnings.warn(\n",
      "C:\\Users\\aryac\\anaconda3\\lib\\site-packages\\sklearn\\cluster\\_kmeans.py:1332: UserWarning: KMeans is known to have a memory leak on Windows with MKL, when there are less chunks than available threads. You can avoid it by setting the environment variable OMP_NUM_THREADS=1.\n",
      "  warnings.warn(\n",
      "C:\\Users\\aryac\\anaconda3\\lib\\site-packages\\sklearn\\cluster\\_kmeans.py:1332: UserWarning: KMeans is known to have a memory leak on Windows with MKL, when there are less chunks than available threads. You can avoid it by setting the environment variable OMP_NUM_THREADS=1.\n",
      "  warnings.warn(\n",
      "C:\\Users\\aryac\\anaconda3\\lib\\site-packages\\sklearn\\cluster\\_kmeans.py:1332: UserWarning: KMeans is known to have a memory leak on Windows with MKL, when there are less chunks than available threads. You can avoid it by setting the environment variable OMP_NUM_THREADS=1.\n",
      "  warnings.warn(\n",
      "C:\\Users\\aryac\\anaconda3\\lib\\site-packages\\sklearn\\cluster\\_kmeans.py:1332: UserWarning: KMeans is known to have a memory leak on Windows with MKL, when there are less chunks than available threads. You can avoid it by setting the environment variable OMP_NUM_THREADS=1.\n",
      "  warnings.warn(\n",
      "C:\\Users\\aryac\\anaconda3\\lib\\site-packages\\sklearn\\cluster\\_kmeans.py:1332: UserWarning: KMeans is known to have a memory leak on Windows with MKL, when there are less chunks than available threads. You can avoid it by setting the environment variable OMP_NUM_THREADS=1.\n",
      "  warnings.warn(\n",
      "C:\\Users\\aryac\\anaconda3\\lib\\site-packages\\sklearn\\cluster\\_kmeans.py:1332: UserWarning: KMeans is known to have a memory leak on Windows with MKL, when there are less chunks than available threads. You can avoid it by setting the environment variable OMP_NUM_THREADS=1.\n",
      "  warnings.warn(\n",
      "C:\\Users\\aryac\\anaconda3\\lib\\site-packages\\sklearn\\cluster\\_kmeans.py:1332: UserWarning: KMeans is known to have a memory leak on Windows with MKL, when there are less chunks than available threads. You can avoid it by setting the environment variable OMP_NUM_THREADS=1.\n",
      "  warnings.warn(\n",
      "C:\\Users\\aryac\\anaconda3\\lib\\site-packages\\sklearn\\cluster\\_kmeans.py:1332: UserWarning: KMeans is known to have a memory leak on Windows with MKL, when there are less chunks than available threads. You can avoid it by setting the environment variable OMP_NUM_THREADS=1.\n",
      "  warnings.warn(\n",
      "C:\\Users\\aryac\\anaconda3\\lib\\site-packages\\sklearn\\cluster\\_kmeans.py:1332: UserWarning: KMeans is known to have a memory leak on Windows with MKL, when there are less chunks than available threads. You can avoid it by setting the environment variable OMP_NUM_THREADS=1.\n",
      "  warnings.warn(\n",
      "C:\\Users\\aryac\\anaconda3\\lib\\site-packages\\sklearn\\cluster\\_kmeans.py:1332: UserWarning: KMeans is known to have a memory leak on Windows with MKL, when there are less chunks than available threads. You can avoid it by setting the environment variable OMP_NUM_THREADS=1.\n",
      "  warnings.warn(\n",
      "C:\\Users\\aryac\\anaconda3\\lib\\site-packages\\sklearn\\cluster\\_kmeans.py:1332: UserWarning: KMeans is known to have a memory leak on Windows with MKL, when there are less chunks than available threads. You can avoid it by setting the environment variable OMP_NUM_THREADS=1.\n",
      "  warnings.warn(\n",
      "C:\\Users\\aryac\\anaconda3\\lib\\site-packages\\sklearn\\cluster\\_kmeans.py:1332: UserWarning: KMeans is known to have a memory leak on Windows with MKL, when there are less chunks than available threads. You can avoid it by setting the environment variable OMP_NUM_THREADS=1.\n",
      "  warnings.warn(\n",
      "C:\\Users\\aryac\\anaconda3\\lib\\site-packages\\sklearn\\cluster\\_kmeans.py:1332: UserWarning: KMeans is known to have a memory leak on Windows with MKL, when there are less chunks than available threads. You can avoid it by setting the environment variable OMP_NUM_THREADS=1.\n",
      "  warnings.warn(\n",
      "C:\\Users\\aryac\\anaconda3\\lib\\site-packages\\sklearn\\cluster\\_kmeans.py:1332: UserWarning: KMeans is known to have a memory leak on Windows with MKL, when there are less chunks than available threads. You can avoid it by setting the environment variable OMP_NUM_THREADS=1.\n",
      "  warnings.warn(\n",
      "C:\\Users\\aryac\\anaconda3\\lib\\site-packages\\sklearn\\cluster\\_kmeans.py:1332: UserWarning: KMeans is known to have a memory leak on Windows with MKL, when there are less chunks than available threads. You can avoid it by setting the environment variable OMP_NUM_THREADS=1.\n",
      "  warnings.warn(\n",
      "C:\\Users\\aryac\\anaconda3\\lib\\site-packages\\sklearn\\cluster\\_kmeans.py:1332: UserWarning: KMeans is known to have a memory leak on Windows with MKL, when there are less chunks than available threads. You can avoid it by setting the environment variable OMP_NUM_THREADS=1.\n",
      "  warnings.warn(\n"
     ]
    }
   ],
   "source": [
    "sse = []\n",
    "k_rng = range(1,21)\n",
    "for k in k_rng :\n",
    "    km = KMeans(n_clusters = k)\n",
    "    km.fit(dataframe2[['ozone','carbonmonoxide', 'nitrogendioxide']]) # methane data is incomplete\n",
    "    sse.append(km.inertia_)"
   ]
  },
  {
   "cell_type": "code",
   "execution_count": 53,
   "id": "1aec54ca",
   "metadata": {},
   "outputs": [
    {
     "data": {
      "text/plain": [
       "[<matplotlib.lines.Line2D at 0x204b05e5280>]"
      ]
     },
     "execution_count": 53,
     "metadata": {},
     "output_type": "execute_result"
    },
    {
     "data": {
      "image/png": "[encoded data removed]",
      "text/plain": [
       "<Figure size 432x288 with 1 Axes>"
      ]
     },
     "metadata": {
      "needs_background": "light"
     },
     "output_type": "display_data"
    }
   ],
   "source": [
    "plt.xlabel('K')\n",
    "plt.ylabel('Sum of squared error')\n",
    "plt.plot(k_rng,sse)"
   ]
  },
  {
   "cell_type": "markdown",
   "id": "7b727b46",
   "metadata": {},
   "source": [
    "#### 5 clusters"
   ]
  },
  {
   "cell_type": "code",
   "execution_count": 54,
   "id": "cbf37f25",
   "metadata": {},
   "outputs": [
    {
     "name": "stderr",
     "output_type": "stream",
     "text": [
      "C:\\Users\\aryac\\anaconda3\\lib\\site-packages\\sklearn\\cluster\\_kmeans.py:1332: UserWarning: KMeans is known to have a memory leak on Windows with MKL, when there are less chunks than available threads. You can avoid it by setting the environment variable OMP_NUM_THREADS=1.\n",
      "  warnings.warn(\n"
     ]
    },
    {
     "data": {
      "text/plain": [
       "array([4, 4, 3, 3, 2, 1, 3, 2, 4, 1, 3, 0, 3, 4, 4, 1, 4, 0, 1, 1])"
      ]
     },
     "execution_count": 54,
     "metadata": {},
     "output_type": "execute_result"
    }
   ],
   "source": [
    "kmeans = KMeans(n_clusters = 5)\n",
    "y_predicted = kmeans.fit_predict(dataframe2[['ozone','carbonmonoxide', 'nitrogendioxide']])\n",
    "y_predicted"
   ]
  },
  {
   "cell_type": "code",
   "execution_count": 55,
   "id": "17a35ae3",
   "metadata": {},
   "outputs": [
    {
     "data": {
      "text/html": [
       "<div>\n",
       "<style scoped>\n",
       "    .dataframe tbody tr th:only-of-type {\n",
       "        vertical-align: middle;\n",
       "    }\n",
       "\n",
       "    .dataframe tbody tr th {\n",
       "        vertical-align: top;\n",
       "    }\n",
       "\n",
       "    .dataframe thead th {\n",
       "        text-align: right;\n",
       "    }\n",
       "</style>\n",
       "<table border=\"1\" class=\"dataframe\">\n",
       "  <thead>\n",
       "    <tr style=\"text-align: right;\">\n",
       "      <th></th>\n",
       "      <th>ozone</th>\n",
       "      <th>carbonmonoxide</th>\n",
       "      <th>nitrogendioxide</th>\n",
       "      <th>methane</th>\n",
       "      <th>cluster</th>\n",
       "      <th>city</th>\n",
       "    </tr>\n",
       "  </thead>\n",
       "  <tbody>\n",
       "    <tr>\n",
       "      <th>delhi</th>\n",
       "      <td>0.424747</td>\n",
       "      <td>0.382265</td>\n",
       "      <td>0.243647</td>\n",
       "      <td>0.633826</td>\n",
       "      <td>4</td>\n",
       "      <td>delhi</td>\n",
       "    </tr>\n",
       "    <tr>\n",
       "      <th>tokyo</th>\n",
       "      <td>0.638052</td>\n",
       "      <td>0.385001</td>\n",
       "      <td>0.265565</td>\n",
       "      <td>0.516492</td>\n",
       "      <td>4</td>\n",
       "      <td>tokyo</td>\n",
       "    </tr>\n",
       "    <tr>\n",
       "      <th>jakarta</th>\n",
       "      <td>0.106564</td>\n",
       "      <td>0.139078</td>\n",
       "      <td>0.138580</td>\n",
       "      <td>NaN</td>\n",
       "      <td>3</td>\n",
       "      <td>jakarta</td>\n",
       "    </tr>\n",
       "    <tr>\n",
       "      <th>manila</th>\n",
       "      <td>0.004302</td>\n",
       "      <td>0.205846</td>\n",
       "      <td>0.040040</td>\n",
       "      <td>NaN</td>\n",
       "      <td>3</td>\n",
       "      <td>manila</td>\n",
       "    </tr>\n",
       "    <tr>\n",
       "      <th>seoul</th>\n",
       "      <td>0.843320</td>\n",
       "      <td>0.568393</td>\n",
       "      <td>0.906893</td>\n",
       "      <td>0.195584</td>\n",
       "      <td>2</td>\n",
       "      <td>seoul</td>\n",
       "    </tr>\n",
       "    <tr>\n",
       "      <th>sanghai</th>\n",
       "      <td>0.335873</td>\n",
       "      <td>0.881468</td>\n",
       "      <td>0.596308</td>\n",
       "      <td>NaN</td>\n",
       "      <td>1</td>\n",
       "      <td>sanghai</td>\n",
       "    </tr>\n",
       "    <tr>\n",
       "      <th>karachi</th>\n",
       "      <td>0.204761</td>\n",
       "      <td>0.367427</td>\n",
       "      <td>0.213991</td>\n",
       "      <td>0.688349</td>\n",
       "      <td>3</td>\n",
       "      <td>karachi</td>\n",
       "    </tr>\n",
       "    <tr>\n",
       "      <th>beijing</th>\n",
       "      <td>1.000000</td>\n",
       "      <td>1.000000</td>\n",
       "      <td>1.000000</td>\n",
       "      <td>0.390788</td>\n",
       "      <td>2</td>\n",
       "      <td>beijing</td>\n",
       "    </tr>\n",
       "    <tr>\n",
       "      <th>nyc</th>\n",
       "      <td>0.797539</td>\n",
       "      <td>0.294841</td>\n",
       "      <td>0.297856</td>\n",
       "      <td>0.000000</td>\n",
       "      <td>4</td>\n",
       "      <td>nyc</td>\n",
       "    </tr>\n",
       "    <tr>\n",
       "      <th>guangzhou</th>\n",
       "      <td>0.000000</td>\n",
       "      <td>0.722726</td>\n",
       "      <td>0.459862</td>\n",
       "      <td>NaN</td>\n",
       "      <td>1</td>\n",
       "      <td>guangzhou</td>\n",
       "    </tr>\n",
       "    <tr>\n",
       "      <th>saopaulo</th>\n",
       "      <td>0.166851</td>\n",
       "      <td>0.054543</td>\n",
       "      <td>0.000000</td>\n",
       "      <td>NaN</td>\n",
       "      <td>3</td>\n",
       "      <td>saopaulo</td>\n",
       "    </tr>\n",
       "    <tr>\n",
       "      <th>mexico</th>\n",
       "      <td>0.079703</td>\n",
       "      <td>0.000000</td>\n",
       "      <td>0.549567</td>\n",
       "      <td>0.598797</td>\n",
       "      <td>0</td>\n",
       "      <td>mexico</td>\n",
       "    </tr>\n",
       "    <tr>\n",
       "      <th>mumbai</th>\n",
       "      <td>0.062375</td>\n",
       "      <td>0.452151</td>\n",
       "      <td>0.152673</td>\n",
       "      <td>NaN</td>\n",
       "      <td>3</td>\n",
       "      <td>mumbai</td>\n",
       "    </tr>\n",
       "    <tr>\n",
       "      <th>kyoto</th>\n",
       "      <td>0.568690</td>\n",
       "      <td>0.337847</td>\n",
       "      <td>0.009605</td>\n",
       "      <td>NaN</td>\n",
       "      <td>4</td>\n",
       "      <td>kyoto</td>\n",
       "    </tr>\n",
       "    <tr>\n",
       "      <th>moscow</th>\n",
       "      <td>0.779558</td>\n",
       "      <td>0.242946</td>\n",
       "      <td>0.314066</td>\n",
       "      <td>NaN</td>\n",
       "      <td>4</td>\n",
       "      <td>moscow</td>\n",
       "    </tr>\n",
       "    <tr>\n",
       "      <th>dhaka</th>\n",
       "      <td>0.136228</td>\n",
       "      <td>0.587196</td>\n",
       "      <td>0.238437</td>\n",
       "      <td>1.000000</td>\n",
       "      <td>1</td>\n",
       "      <td>dhaka</td>\n",
       "    </tr>\n",
       "    <tr>\n",
       "      <th>cairo</th>\n",
       "      <td>0.576005</td>\n",
       "      <td>0.213747</td>\n",
       "      <td>0.258077</td>\n",
       "      <td>0.283459</td>\n",
       "      <td>4</td>\n",
       "      <td>cairo</td>\n",
       "    </tr>\n",
       "    <tr>\n",
       "      <th>la</th>\n",
       "      <td>0.526129</td>\n",
       "      <td>0.212575</td>\n",
       "      <td>0.619884</td>\n",
       "      <td>0.552866</td>\n",
       "      <td>0</td>\n",
       "      <td>la</td>\n",
       "    </tr>\n",
       "    <tr>\n",
       "      <th>bangkok</th>\n",
       "      <td>0.040029</td>\n",
       "      <td>0.632886</td>\n",
       "      <td>0.305473</td>\n",
       "      <td>0.671999</td>\n",
       "      <td>1</td>\n",
       "      <td>bangkok</td>\n",
       "    </tr>\n",
       "    <tr>\n",
       "      <th>kolkata</th>\n",
       "      <td>0.100856</td>\n",
       "      <td>0.637896</td>\n",
       "      <td>0.175376</td>\n",
       "      <td>0.989987</td>\n",
       "      <td>1</td>\n",
       "      <td>kolkata</td>\n",
       "    </tr>\n",
       "  </tbody>\n",
       "</table>\n",
       "</div>"
      ],
      "text/plain": [
       "              ozone  carbonmonoxide  nitrogendioxide   methane  cluster  \\\n",
       "delhi      0.424747        0.382265         0.243647  0.633826        4   \n",
       "tokyo      0.638052        0.385001         0.265565  0.516492        4   \n",
       "jakarta    0.106564        0.139078         0.138580       NaN        3   \n",
       "manila     0.004302        0.205846         0.040040       NaN        3   \n",
       "seoul      0.843320        0.568393         0.906893  0.195584        2   \n",
       "sanghai    0.335873        0.881468         0.596308       NaN        1   \n",
       "karachi    0.204761        0.367427         0.213991  0.688349        3   \n",
       "beijing    1.000000        1.000000         1.000000  0.390788        2   \n",
       "nyc        0.797539        0.294841         0.297856  0.000000        4   \n",
       "guangzhou  0.000000        0.722726         0.459862       NaN        1   \n",
       "saopaulo   0.166851        0.054543         0.000000       NaN        3   \n",
       "mexico     0.079703        0.000000         0.549567  0.598797        0   \n",
       "mumbai     0.062375        0.452151         0.152673       NaN        3   \n",
       "kyoto      0.568690        0.337847         0.009605       NaN        4   \n",
       "moscow     0.779558        0.242946         0.314066       NaN        4   \n",
       "dhaka      0.136228        0.587196         0.238437  1.000000        1   \n",
       "cairo      0.576005        0.213747         0.258077  0.283459        4   \n",
       "la         0.526129        0.212575         0.619884  0.552866        0   \n",
       "bangkok    0.040029        0.632886         0.305473  0.671999        1   \n",
       "kolkata    0.100856        0.637896         0.175376  0.989987        1   \n",
       "\n",
       "                city  \n",
       "delhi          delhi  \n",
       "tokyo          tokyo  \n",
       "jakarta      jakarta  \n",
       "manila        manila  \n",
       "seoul          seoul  \n",
       "sanghai      sanghai  \n",
       "karachi      karachi  \n",
       "beijing      beijing  \n",
       "nyc              nyc  \n",
       "guangzhou  guangzhou  \n",
       "saopaulo    saopaulo  \n",
       "mexico        mexico  \n",
       "mumbai        mumbai  \n",
       "kyoto          kyoto  \n",
       "moscow        moscow  \n",
       "dhaka          dhaka  \n",
       "cairo          cairo  \n",
       "la                la  \n",
       "bangkok      bangkok  \n",
       "kolkata      kolkata  "
      ]
     },
     "execution_count": 55,
     "metadata": {},
     "output_type": "execute_result"
    }
   ],
   "source": [
    "dataframe2['cluster'] = y_predicted\n",
    "dataframe2['city'] = dataframe2.index\n",
    "dataframe2"
   ]
  },
  {
   "cell_type": "code",
   "execution_count": 56,
   "id": "65c34934",
   "metadata": {},
   "outputs": [],
   "source": [
    "cluster0 = dataframe2[dataframe2['cluster'] == 0]\n",
    "cluster1 = dataframe2[dataframe2['cluster'] == 1]\n",
    "cluster2 = dataframe2[dataframe2['cluster'] == 2]\n",
    "cluster3 = dataframe2[dataframe2['cluster'] == 3]\n",
    "cluster4 = dataframe2[dataframe2['cluster'] == 4]"
   ]
  },
  {
   "cell_type": "code",
   "execution_count": 62,
   "id": "c616b7c8",
   "metadata": {},
   "outputs": [
    {
     "data": {
      "text/html": [
       "<div>\n",
       "<style scoped>\n",
       "    .dataframe tbody tr th:only-of-type {\n",
       "        vertical-align: middle;\n",
       "    }\n",
       "\n",
       "    .dataframe tbody tr th {\n",
       "        vertical-align: top;\n",
       "    }\n",
       "\n",
       "    .dataframe thead th {\n",
       "        text-align: right;\n",
       "    }\n",
       "</style>\n",
       "<table border=\"1\" class=\"dataframe\">\n",
       "  <thead>\n",
       "    <tr style=\"text-align: right;\">\n",
       "      <th></th>\n",
       "      <th>ozone</th>\n",
       "      <th>carbonmonoxide</th>\n",
       "      <th>nitrogendioxide</th>\n",
       "      <th>methane</th>\n",
       "      <th>cluster</th>\n",
       "      <th>city</th>\n",
       "    </tr>\n",
       "  </thead>\n",
       "  <tbody>\n",
       "    <tr>\n",
       "      <th>mexico</th>\n",
       "      <td>0.079703</td>\n",
       "      <td>0.000000</td>\n",
       "      <td>0.549567</td>\n",
       "      <td>0.598797</td>\n",
       "      <td>0</td>\n",
       "      <td>mexico</td>\n",
       "    </tr>\n",
       "    <tr>\n",
       "      <th>la</th>\n",
       "      <td>0.526129</td>\n",
       "      <td>0.212575</td>\n",
       "      <td>0.619884</td>\n",
       "      <td>0.552866</td>\n",
       "      <td>0</td>\n",
       "      <td>la</td>\n",
       "    </tr>\n",
       "  </tbody>\n",
       "</table>\n",
       "</div>"
      ],
      "text/plain": [
       "           ozone  carbonmonoxide  nitrogendioxide   methane  cluster    city\n",
       "mexico  0.079703        0.000000         0.549567  0.598797        0  mexico\n",
       "la      0.526129        0.212575         0.619884  0.552866        0      la"
      ]
     },
     "execution_count": 62,
     "metadata": {},
     "output_type": "execute_result"
    }
   ],
   "source": [
    "cluster0"
   ]
  },
  {
   "cell_type": "code",
   "execution_count": 63,
   "id": "e47ada55",
   "metadata": {},
   "outputs": [
    {
     "data": {
      "text/html": [
       "<div>\n",
       "<style scoped>\n",
       "    .dataframe tbody tr th:only-of-type {\n",
       "        vertical-align: middle;\n",
       "    }\n",
       "\n",
       "    .dataframe tbody tr th {\n",
       "        vertical-align: top;\n",
       "    }\n",
       "\n",
       "    .dataframe thead th {\n",
       "        text-align: right;\n",
       "    }\n",
       "</style>\n",
       "<table border=\"1\" class=\"dataframe\">\n",
       "  <thead>\n",
       "    <tr style=\"text-align: right;\">\n",
       "      <th></th>\n",
       "      <th>ozone</th>\n",
       "      <th>carbonmonoxide</th>\n",
       "      <th>nitrogendioxide</th>\n",
       "      <th>methane</th>\n",
       "      <th>cluster</th>\n",
       "      <th>city</th>\n",
       "    </tr>\n",
       "  </thead>\n",
       "  <tbody>\n",
       "    <tr>\n",
       "      <th>sanghai</th>\n",
       "      <td>0.335873</td>\n",
       "      <td>0.881468</td>\n",
       "      <td>0.596308</td>\n",
       "      <td>NaN</td>\n",
       "      <td>1</td>\n",
       "      <td>sanghai</td>\n",
       "    </tr>\n",
       "    <tr>\n",
       "      <th>guangzhou</th>\n",
       "      <td>0.000000</td>\n",
       "      <td>0.722726</td>\n",
       "      <td>0.459862</td>\n",
       "      <td>NaN</td>\n",
       "      <td>1</td>\n",
       "      <td>guangzhou</td>\n",
       "    </tr>\n",
       "    <tr>\n",
       "      <th>dhaka</th>\n",
       "      <td>0.136228</td>\n",
       "      <td>0.587196</td>\n",
       "      <td>0.238437</td>\n",
       "      <td>1.000000</td>\n",
       "      <td>1</td>\n",
       "      <td>dhaka</td>\n",
       "    </tr>\n",
       "    <tr>\n",
       "      <th>bangkok</th>\n",
       "      <td>0.040029</td>\n",
       "      <td>0.632886</td>\n",
       "      <td>0.305473</td>\n",
       "      <td>0.671999</td>\n",
       "      <td>1</td>\n",
       "      <td>bangkok</td>\n",
       "    </tr>\n",
       "    <tr>\n",
       "      <th>kolkata</th>\n",
       "      <td>0.100856</td>\n",
       "      <td>0.637896</td>\n",
       "      <td>0.175376</td>\n",
       "      <td>0.989987</td>\n",
       "      <td>1</td>\n",
       "      <td>kolkata</td>\n",
       "    </tr>\n",
       "  </tbody>\n",
       "</table>\n",
       "</div>"
      ],
      "text/plain": [
       "              ozone  carbonmonoxide  nitrogendioxide   methane  cluster  \\\n",
       "sanghai    0.335873        0.881468         0.596308       NaN        1   \n",
       "guangzhou  0.000000        0.722726         0.459862       NaN        1   \n",
       "dhaka      0.136228        0.587196         0.238437  1.000000        1   \n",
       "bangkok    0.040029        0.632886         0.305473  0.671999        1   \n",
       "kolkata    0.100856        0.637896         0.175376  0.989987        1   \n",
       "\n",
       "                city  \n",
       "sanghai      sanghai  \n",
       "guangzhou  guangzhou  \n",
       "dhaka          dhaka  \n",
       "bangkok      bangkok  \n",
       "kolkata      kolkata  "
      ]
     },
     "execution_count": 63,
     "metadata": {},
     "output_type": "execute_result"
    }
   ],
   "source": [
    "cluster1"
   ]
  },
  {
   "cell_type": "code",
   "execution_count": 64,
   "id": "7253c427",
   "metadata": {},
   "outputs": [
    {
     "data": {
      "text/html": [
       "<div>\n",
       "<style scoped>\n",
       "    .dataframe tbody tr th:only-of-type {\n",
       "        vertical-align: middle;\n",
       "    }\n",
       "\n",
       "    .dataframe tbody tr th {\n",
       "        vertical-align: top;\n",
       "    }\n",
       "\n",
       "    .dataframe thead th {\n",
       "        text-align: right;\n",
       "    }\n",
       "</style>\n",
       "<table border=\"1\" class=\"dataframe\">\n",
       "  <thead>\n",
       "    <tr style=\"text-align: right;\">\n",
       "      <th></th>\n",
       "      <th>ozone</th>\n",
       "      <th>carbonmonoxide</th>\n",
       "      <th>nitrogendioxide</th>\n",
       "      <th>methane</th>\n",
       "      <th>cluster</th>\n",
       "      <th>city</th>\n",
       "    </tr>\n",
       "  </thead>\n",
       "  <tbody>\n",
       "    <tr>\n",
       "      <th>seoul</th>\n",
       "      <td>0.84332</td>\n",
       "      <td>0.568393</td>\n",
       "      <td>0.906893</td>\n",
       "      <td>0.195584</td>\n",
       "      <td>2</td>\n",
       "      <td>seoul</td>\n",
       "    </tr>\n",
       "    <tr>\n",
       "      <th>beijing</th>\n",
       "      <td>1.00000</td>\n",
       "      <td>1.000000</td>\n",
       "      <td>1.000000</td>\n",
       "      <td>0.390788</td>\n",
       "      <td>2</td>\n",
       "      <td>beijing</td>\n",
       "    </tr>\n",
       "  </tbody>\n",
       "</table>\n",
       "</div>"
      ],
      "text/plain": [
       "           ozone  carbonmonoxide  nitrogendioxide   methane  cluster     city\n",
       "seoul    0.84332        0.568393         0.906893  0.195584        2    seoul\n",
       "beijing  1.00000        1.000000         1.000000  0.390788        2  beijing"
      ]
     },
     "execution_count": 64,
     "metadata": {},
     "output_type": "execute_result"
    }
   ],
   "source": [
    "cluster2"
   ]
  },
  {
   "cell_type": "code",
   "execution_count": 65,
   "id": "e4773486",
   "metadata": {},
   "outputs": [
    {
     "data": {
      "text/html": [
       "<div>\n",
       "<style scoped>\n",
       "    .dataframe tbody tr th:only-of-type {\n",
       "        vertical-align: middle;\n",
       "    }\n",
       "\n",
       "    .dataframe tbody tr th {\n",
       "        vertical-align: top;\n",
       "    }\n",
       "\n",
       "    .dataframe thead th {\n",
       "        text-align: right;\n",
       "    }\n",
       "</style>\n",
       "<table border=\"1\" class=\"dataframe\">\n",
       "  <thead>\n",
       "    <tr style=\"text-align: right;\">\n",
       "      <th></th>\n",
       "      <th>ozone</th>\n",
       "      <th>carbonmonoxide</th>\n",
       "      <th>nitrogendioxide</th>\n",
       "      <th>methane</th>\n",
       "      <th>cluster</th>\n",
       "      <th>city</th>\n",
       "    </tr>\n",
       "  </thead>\n",
       "  <tbody>\n",
       "    <tr>\n",
       "      <th>jakarta</th>\n",
       "      <td>0.106564</td>\n",
       "      <td>0.139078</td>\n",
       "      <td>0.138580</td>\n",
       "      <td>NaN</td>\n",
       "      <td>3</td>\n",
       "      <td>jakarta</td>\n",
       "    </tr>\n",
       "    <tr>\n",
       "      <th>manila</th>\n",
       "      <td>0.004302</td>\n",
       "      <td>0.205846</td>\n",
       "      <td>0.040040</td>\n",
       "      <td>NaN</td>\n",
       "      <td>3</td>\n",
       "      <td>manila</td>\n",
       "    </tr>\n",
       "    <tr>\n",
       "      <th>karachi</th>\n",
       "      <td>0.204761</td>\n",
       "      <td>0.367427</td>\n",
       "      <td>0.213991</td>\n",
       "      <td>0.688349</td>\n",
       "      <td>3</td>\n",
       "      <td>karachi</td>\n",
       "    </tr>\n",
       "    <tr>\n",
       "      <th>saopaulo</th>\n",
       "      <td>0.166851</td>\n",
       "      <td>0.054543</td>\n",
       "      <td>0.000000</td>\n",
       "      <td>NaN</td>\n",
       "      <td>3</td>\n",
       "      <td>saopaulo</td>\n",
       "    </tr>\n",
       "    <tr>\n",
       "      <th>mumbai</th>\n",
       "      <td>0.062375</td>\n",
       "      <td>0.452151</td>\n",
       "      <td>0.152673</td>\n",
       "      <td>NaN</td>\n",
       "      <td>3</td>\n",
       "      <td>mumbai</td>\n",
       "    </tr>\n",
       "  </tbody>\n",
       "</table>\n",
       "</div>"
      ],
      "text/plain": [
       "             ozone  carbonmonoxide  nitrogendioxide   methane  cluster  \\\n",
       "jakarta   0.106564        0.139078         0.138580       NaN        3   \n",
       "manila    0.004302        0.205846         0.040040       NaN        3   \n",
       "karachi   0.204761        0.367427         0.213991  0.688349        3   \n",
       "saopaulo  0.166851        0.054543         0.000000       NaN        3   \n",
       "mumbai    0.062375        0.452151         0.152673       NaN        3   \n",
       "\n",
       "              city  \n",
       "jakarta    jakarta  \n",
       "manila      manila  \n",
       "karachi    karachi  \n",
       "saopaulo  saopaulo  \n",
       "mumbai      mumbai  "
      ]
     },
     "execution_count": 65,
     "metadata": {},
     "output_type": "execute_result"
    }
   ],
   "source": [
    "cluster3"
   ]
  },
  {
   "cell_type": "code",
   "execution_count": 66,
   "id": "a516205b",
   "metadata": {},
   "outputs": [
    {
     "data": {
      "text/html": [
       "<div>\n",
       "<style scoped>\n",
       "    .dataframe tbody tr th:only-of-type {\n",
       "        vertical-align: middle;\n",
       "    }\n",
       "\n",
       "    .dataframe tbody tr th {\n",
       "        vertical-align: top;\n",
       "    }\n",
       "\n",
       "    .dataframe thead th {\n",
       "        text-align: right;\n",
       "    }\n",
       "</style>\n",
       "<table border=\"1\" class=\"dataframe\">\n",
       "  <thead>\n",
       "    <tr style=\"text-align: right;\">\n",
       "      <th></th>\n",
       "      <th>ozone</th>\n",
       "      <th>carbonmonoxide</th>\n",
       "      <th>nitrogendioxide</th>\n",
       "      <th>methane</th>\n",
       "      <th>cluster</th>\n",
       "      <th>city</th>\n",
       "    </tr>\n",
       "  </thead>\n",
       "  <tbody>\n",
       "    <tr>\n",
       "      <th>delhi</th>\n",
       "      <td>0.424747</td>\n",
       "      <td>0.382265</td>\n",
       "      <td>0.243647</td>\n",
       "      <td>0.633826</td>\n",
       "      <td>4</td>\n",
       "      <td>delhi</td>\n",
       "    </tr>\n",
       "    <tr>\n",
       "      <th>tokyo</th>\n",
       "      <td>0.638052</td>\n",
       "      <td>0.385001</td>\n",
       "      <td>0.265565</td>\n",
       "      <td>0.516492</td>\n",
       "      <td>4</td>\n",
       "      <td>tokyo</td>\n",
       "    </tr>\n",
       "    <tr>\n",
       "      <th>nyc</th>\n",
       "      <td>0.797539</td>\n",
       "      <td>0.294841</td>\n",
       "      <td>0.297856</td>\n",
       "      <td>0.000000</td>\n",
       "      <td>4</td>\n",
       "      <td>nyc</td>\n",
       "    </tr>\n",
       "    <tr>\n",
       "      <th>kyoto</th>\n",
       "      <td>0.568690</td>\n",
       "      <td>0.337847</td>\n",
       "      <td>0.009605</td>\n",
       "      <td>NaN</td>\n",
       "      <td>4</td>\n",
       "      <td>kyoto</td>\n",
       "    </tr>\n",
       "    <tr>\n",
       "      <th>moscow</th>\n",
       "      <td>0.779558</td>\n",
       "      <td>0.242946</td>\n",
       "      <td>0.314066</td>\n",
       "      <td>NaN</td>\n",
       "      <td>4</td>\n",
       "      <td>moscow</td>\n",
       "    </tr>\n",
       "    <tr>\n",
       "      <th>cairo</th>\n",
       "      <td>0.576005</td>\n",
       "      <td>0.213747</td>\n",
       "      <td>0.258077</td>\n",
       "      <td>0.283459</td>\n",
       "      <td>4</td>\n",
       "      <td>cairo</td>\n",
       "    </tr>\n",
       "  </tbody>\n",
       "</table>\n",
       "</div>"
      ],
      "text/plain": [
       "           ozone  carbonmonoxide  nitrogendioxide   methane  cluster    city\n",
       "delhi   0.424747        0.382265         0.243647  0.633826        4   delhi\n",
       "tokyo   0.638052        0.385001         0.265565  0.516492        4   tokyo\n",
       "nyc     0.797539        0.294841         0.297856  0.000000        4     nyc\n",
       "kyoto   0.568690        0.337847         0.009605       NaN        4   kyoto\n",
       "moscow  0.779558        0.242946         0.314066       NaN        4  moscow\n",
       "cairo   0.576005        0.213747         0.258077  0.283459        4   cairo"
      ]
     },
     "execution_count": 66,
     "metadata": {},
     "output_type": "execute_result"
    }
   ],
   "source": [
    "cluster4"
   ]
  },
  {
   "cell_type": "code",
   "execution_count": 67,
   "id": "5b9a4b34",
   "metadata": {},
   "outputs": [],
   "source": [
    "# cluster0.to_csv('cluster0', index=False)\n",
    "# cluster1.to_csv('cluster1', index=False)\n",
    "# cluster2.to_csv('cluster2', index=False)\n",
    "# cluster3.to_csv('cluster3', index=False)\n",
    "# cluster4.to_csv('cluster4', index=False)"
   ]
  }
 ],
 "metadata": {
  "kernelspec": {
   "display_name": "Python 3 (ipykernel)",
   "language": "python",
   "name": "python3"
  },
  "language_info": {
   "codemirror_mode": {
    "name": "ipython",
    "version": 3
   },
   "file_extension": ".py",
   "mimetype": "text/x-python",
   "name": "python",
   "nbconvert_exporter": "python",
   "pygments_lexer": "ipython3",
   "version": "3.9.7"
  }
 },
 "nbformat": 4,
 "nbformat_minor": 5
}
