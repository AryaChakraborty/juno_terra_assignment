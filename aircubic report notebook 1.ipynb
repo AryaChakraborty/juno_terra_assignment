{
 "cells": [
  {
   "cell_type": "code",
   "execution_count": 1,
   "id": "170a5ba6",
   "metadata": {},
   "outputs": [],
   "source": [
    "import pandas as pd"
   ]
  },
  {
   "cell_type": "code",
   "execution_count": 2,
   "id": "3692a2c5",
   "metadata": {},
   "outputs": [
    {
     "data": {
      "text/html": [
       "<div>\n",
       "<style scoped>\n",
       "    .dataframe tbody tr th:only-of-type {\n",
       "        vertical-align: middle;\n",
       "    }\n",
       "\n",
       "    .dataframe tbody tr th {\n",
       "        vertical-align: top;\n",
       "    }\n",
       "\n",
       "    .dataframe thead th {\n",
       "        text-align: right;\n",
       "    }\n",
       "</style>\n",
       "<table border=\"1\" class=\"dataframe\">\n",
       "  <thead>\n",
       "    <tr style=\"text-align: right;\">\n",
       "      <th></th>\n",
       "      <th>id</th>\n",
       "      <th>value</th>\n",
       "      <th>feed_id</th>\n",
       "      <th>created_at</th>\n",
       "      <th>lat</th>\n",
       "      <th>lon</th>\n",
       "      <th>ele</th>\n",
       "    </tr>\n",
       "  </thead>\n",
       "  <tbody>\n",
       "    <tr>\n",
       "      <th>0</th>\n",
       "      <td>0F0DW4PQ6VCYVWYS9WEGQ14SYG</td>\n",
       "      <td>{'result': {'ip':'111.223.26.1','id':'T1199','...</td>\n",
       "      <td>1781777</td>\n",
       "      <td>2022-04-23 23:49:12 UTC</td>\n",
       "      <td>NaN</td>\n",
       "      <td>NaN</td>\n",
       "      <td>NaN</td>\n",
       "    </tr>\n",
       "    <tr>\n",
       "      <th>1</th>\n",
       "      <td>0F0DW7KQ3J6M27T02DW79A73EQ</td>\n",
       "      <td>{'result': {'ip':'111.223.26.1','id':'T1199','...</td>\n",
       "      <td>1781777</td>\n",
       "      <td>2022-04-23 23:54:17 UTC</td>\n",
       "      <td>NaN</td>\n",
       "      <td>NaN</td>\n",
       "      <td>NaN</td>\n",
       "    </tr>\n",
       "    <tr>\n",
       "      <th>2</th>\n",
       "      <td>0F0DWAGT7QRVT2QC1SKZA7MA9N</td>\n",
       "      <td>{'result': {'ip':'111.223.26.1','id':'T1199','...</td>\n",
       "      <td>1781777</td>\n",
       "      <td>2022-04-23 23:59:22 UTC</td>\n",
       "      <td>NaN</td>\n",
       "      <td>NaN</td>\n",
       "      <td>NaN</td>\n",
       "    </tr>\n",
       "    <tr>\n",
       "      <th>3</th>\n",
       "      <td>0F0DWDDXZRG6NDXABCKREFQYEC</td>\n",
       "      <td>{'result': {'ip':'111.223.26.1','id':'T1199','...</td>\n",
       "      <td>1781777</td>\n",
       "      <td>2022-04-24 00:04:27 UTC</td>\n",
       "      <td>NaN</td>\n",
       "      <td>NaN</td>\n",
       "      <td>NaN</td>\n",
       "    </tr>\n",
       "    <tr>\n",
       "      <th>4</th>\n",
       "      <td>0F0DWGB20BQPD3KTNET0PCZS06</td>\n",
       "      <td>{'result': {'ip':'111.223.26.1','id':'T1199','...</td>\n",
       "      <td>1781777</td>\n",
       "      <td>2022-04-24 00:09:32 UTC</td>\n",
       "      <td>NaN</td>\n",
       "      <td>NaN</td>\n",
       "      <td>NaN</td>\n",
       "    </tr>\n",
       "  </tbody>\n",
       "</table>\n",
       "</div>"
      ],
      "text/plain": [
       "                           id  \\\n",
       "0  0F0DW4PQ6VCYVWYS9WEGQ14SYG   \n",
       "1  0F0DW7KQ3J6M27T02DW79A73EQ   \n",
       "2  0F0DWAGT7QRVT2QC1SKZA7MA9N   \n",
       "3  0F0DWDDXZRG6NDXABCKREFQYEC   \n",
       "4  0F0DWGB20BQPD3KTNET0PCZS06   \n",
       "\n",
       "                                               value  feed_id  \\\n",
       "0  {'result': {'ip':'111.223.26.1','id':'T1199','...  1781777   \n",
       "1  {'result': {'ip':'111.223.26.1','id':'T1199','...  1781777   \n",
       "2  {'result': {'ip':'111.223.26.1','id':'T1199','...  1781777   \n",
       "3  {'result': {'ip':'111.223.26.1','id':'T1199','...  1781777   \n",
       "4  {'result': {'ip':'111.223.26.1','id':'T1199','...  1781777   \n",
       "\n",
       "                created_at  lat  lon  ele  \n",
       "0  2022-04-23 23:49:12 UTC  NaN  NaN  NaN  \n",
       "1  2022-04-23 23:54:17 UTC  NaN  NaN  NaN  \n",
       "2  2022-04-23 23:59:22 UTC  NaN  NaN  NaN  \n",
       "3  2022-04-24 00:04:27 UTC  NaN  NaN  NaN  \n",
       "4  2022-04-24 00:09:32 UTC  NaN  NaN  NaN  "
      ]
     },
     "execution_count": 2,
     "metadata": {},
     "output_type": "execute_result"
    }
   ],
   "source": [
    "data = pd.read_csv('T1199-20220524-1217.csv')\n",
    "data.head()"
   ]
  },
  {
   "cell_type": "code",
   "execution_count": 3,
   "id": "7b9357f7",
   "metadata": {},
   "outputs": [],
   "source": [
    "data.drop(columns=['lat', 'lon', 'ele'], inplace=True)"
   ]
  },
  {
   "cell_type": "code",
   "execution_count": 4,
   "id": "39ccd21b",
   "metadata": {},
   "outputs": [
    {
     "name": "stdout",
     "output_type": "stream",
     "text": [
      "<class 'pandas.core.frame.DataFrame'>\n",
      "RangeIndex: 5616 entries, 0 to 5615\n",
      "Data columns (total 4 columns):\n",
      " #   Column      Non-Null Count  Dtype \n",
      "---  ------      --------------  ----- \n",
      " 0   id          5616 non-null   object\n",
      " 1   value       5616 non-null   object\n",
      " 2   feed_id     5616 non-null   int64 \n",
      " 3   created_at  5616 non-null   object\n",
      "dtypes: int64(1), object(3)\n",
      "memory usage: 175.6+ KB\n"
     ]
    }
   ],
   "source": [
    "data.info()"
   ]
  },
  {
   "cell_type": "code",
   "execution_count": 5,
   "id": "0831eea4",
   "metadata": {},
   "outputs": [],
   "source": [
    "data['Temp'] = [(float)((((i.split(\"'Temp':\"))[1]).split(\",\"))[0]) for i in data['value']]\n",
    "data['PM25'] = [(float)((((i.split(\"'PM25':\"))[1]).split(\",\"))[0]) for i in data['value']]\n",
    "data['lux'] = [(float)((((i.split(\"'lux':\"))[1]).split(\",\"))[0]) for i in data['value']]\n",
    "data['VOC'] = [(float)((((i.split(\"'VOC':\"))[1]).split(\",\"))[0]) for i in data['value']]\n",
    "data['CO'] = [(float)((((i.split(\"'CO':\"))[1]).split(\",\"))[0]) for i in data['value']]\n",
    "data['CO2'] = [(float)((((i.split(\"'CO2':\"))[1]).split(\",\"))[0]) for i in data['value']]\n",
    "data['O3'] = [(float)((((i.split(\"'O3':\"))[1]).split(\",\"))[0]) for i in data['value']]\n",
    "data['RH'] = [(float)((((i.split(\"'RH':\"))[1]).split(\",\"))[0]) for i in data['value']]\n",
    "data['Pres'] = [(float)((((i.split(\"'Pres':\"))[1]).split(\"}\"))[0]) for i in data['value']]"
   ]
  },
  {
   "cell_type": "code",
   "execution_count": 6,
   "id": "aff29c24",
   "metadata": {},
   "outputs": [],
   "source": [
    "data['year'] = [(int)(i.split('-')[0]) for i in data['created_at']]\n",
    "data['month'] = [(int)(i.split('-')[1]) for i in data['created_at']]\n",
    "data['date'] = [(int)((i.split('-')[2]).split(' ')[0]) for i in data['created_at']]"
   ]
  },
  {
   "cell_type": "code",
   "execution_count": 7,
   "id": "ea356a01",
   "metadata": {},
   "outputs": [],
   "source": [
    "data.drop(columns=['value', 'feed_id', 'created_at'], inplace=True)"
   ]
  },
  {
   "cell_type": "code",
   "execution_count": 8,
   "id": "e45a0ce4",
   "metadata": {},
   "outputs": [
    {
     "data": {
      "text/html": [
       "<div>\n",
       "<style scoped>\n",
       "    .dataframe tbody tr th:only-of-type {\n",
       "        vertical-align: middle;\n",
       "    }\n",
       "\n",
       "    .dataframe tbody tr th {\n",
       "        vertical-align: top;\n",
       "    }\n",
       "\n",
       "    .dataframe thead th {\n",
       "        text-align: right;\n",
       "    }\n",
       "</style>\n",
       "<table border=\"1\" class=\"dataframe\">\n",
       "  <thead>\n",
       "    <tr style=\"text-align: right;\">\n",
       "      <th></th>\n",
       "      <th>id</th>\n",
       "      <th>Temp</th>\n",
       "      <th>PM25</th>\n",
       "      <th>lux</th>\n",
       "      <th>VOC</th>\n",
       "      <th>CO</th>\n",
       "      <th>CO2</th>\n",
       "      <th>O3</th>\n",
       "      <th>RH</th>\n",
       "      <th>Pres</th>\n",
       "      <th>year</th>\n",
       "      <th>month</th>\n",
       "      <th>date</th>\n",
       "    </tr>\n",
       "  </thead>\n",
       "  <tbody>\n",
       "    <tr>\n",
       "      <th>0</th>\n",
       "      <td>0F0DW4PQ6VCYVWYS9WEGQ14SYG</td>\n",
       "      <td>36.27</td>\n",
       "      <td>195.0</td>\n",
       "      <td>2.0</td>\n",
       "      <td>0.0</td>\n",
       "      <td>0.66</td>\n",
       "      <td>514.0</td>\n",
       "      <td>204.0</td>\n",
       "      <td>25.12</td>\n",
       "      <td>993.0</td>\n",
       "      <td>2022</td>\n",
       "      <td>4</td>\n",
       "      <td>23</td>\n",
       "    </tr>\n",
       "    <tr>\n",
       "      <th>1</th>\n",
       "      <td>0F0DW7KQ3J6M27T02DW79A73EQ</td>\n",
       "      <td>36.27</td>\n",
       "      <td>199.0</td>\n",
       "      <td>9.0</td>\n",
       "      <td>0.0</td>\n",
       "      <td>0.69</td>\n",
       "      <td>496.0</td>\n",
       "      <td>210.0</td>\n",
       "      <td>25.15</td>\n",
       "      <td>987.0</td>\n",
       "      <td>2022</td>\n",
       "      <td>4</td>\n",
       "      <td>23</td>\n",
       "    </tr>\n",
       "    <tr>\n",
       "      <th>2</th>\n",
       "      <td>0F0DWAGT7QRVT2QC1SKZA7MA9N</td>\n",
       "      <td>36.27</td>\n",
       "      <td>200.0</td>\n",
       "      <td>2.0</td>\n",
       "      <td>0.0</td>\n",
       "      <td>0.62</td>\n",
       "      <td>490.0</td>\n",
       "      <td>208.0</td>\n",
       "      <td>25.15</td>\n",
       "      <td>1003.0</td>\n",
       "      <td>2022</td>\n",
       "      <td>4</td>\n",
       "      <td>23</td>\n",
       "    </tr>\n",
       "    <tr>\n",
       "      <th>3</th>\n",
       "      <td>0F0DWDDXZRG6NDXABCKREFQYEC</td>\n",
       "      <td>36.27</td>\n",
       "      <td>199.0</td>\n",
       "      <td>7.0</td>\n",
       "      <td>0.0</td>\n",
       "      <td>0.57</td>\n",
       "      <td>502.0</td>\n",
       "      <td>207.0</td>\n",
       "      <td>25.22</td>\n",
       "      <td>991.0</td>\n",
       "      <td>2022</td>\n",
       "      <td>4</td>\n",
       "      <td>24</td>\n",
       "    </tr>\n",
       "    <tr>\n",
       "      <th>4</th>\n",
       "      <td>0F0DWGB20BQPD3KTNET0PCZS06</td>\n",
       "      <td>36.25</td>\n",
       "      <td>198.0</td>\n",
       "      <td>1.0</td>\n",
       "      <td>0.0</td>\n",
       "      <td>0.70</td>\n",
       "      <td>519.0</td>\n",
       "      <td>206.0</td>\n",
       "      <td>25.41</td>\n",
       "      <td>983.0</td>\n",
       "      <td>2022</td>\n",
       "      <td>4</td>\n",
       "      <td>24</td>\n",
       "    </tr>\n",
       "  </tbody>\n",
       "</table>\n",
       "</div>"
      ],
      "text/plain": [
       "                           id   Temp   PM25  lux  VOC    CO    CO2     O3  \\\n",
       "0  0F0DW4PQ6VCYVWYS9WEGQ14SYG  36.27  195.0  2.0  0.0  0.66  514.0  204.0   \n",
       "1  0F0DW7KQ3J6M27T02DW79A73EQ  36.27  199.0  9.0  0.0  0.69  496.0  210.0   \n",
       "2  0F0DWAGT7QRVT2QC1SKZA7MA9N  36.27  200.0  2.0  0.0  0.62  490.0  208.0   \n",
       "3  0F0DWDDXZRG6NDXABCKREFQYEC  36.27  199.0  7.0  0.0  0.57  502.0  207.0   \n",
       "4  0F0DWGB20BQPD3KTNET0PCZS06  36.25  198.0  1.0  0.0  0.70  519.0  206.0   \n",
       "\n",
       "      RH    Pres  year  month  date  \n",
       "0  25.12   993.0  2022      4    23  \n",
       "1  25.15   987.0  2022      4    23  \n",
       "2  25.15  1003.0  2022      4    23  \n",
       "3  25.22   991.0  2022      4    24  \n",
       "4  25.41   983.0  2022      4    24  "
      ]
     },
     "execution_count": 8,
     "metadata": {},
     "output_type": "execute_result"
    }
   ],
   "source": [
    "data.head()"
   ]
  },
  {
   "cell_type": "code",
   "execution_count": 9,
   "id": "6546a9d3",
   "metadata": {},
   "outputs": [],
   "source": [
    "# current week\n",
    "# MANUAL\n",
    "\n",
    "data_curr_week = data[data['month']==5]\n",
    "data_curr_week = data_curr_week[data_curr_week['date']>=18]\n",
    "data_curr_week = data_curr_week[data_curr_week['date']<=24]"
   ]
  },
  {
   "cell_type": "code",
   "execution_count": null,
   "id": "057d16e8",
   "metadata": {},
   "outputs": [],
   "source": []
  },
  {
   "cell_type": "markdown",
   "id": "6ec33127",
   "metadata": {},
   "source": [
    "## Analysis"
   ]
  },
  {
   "cell_type": "code",
   "execution_count": 10,
   "id": "677a964a",
   "metadata": {},
   "outputs": [
    {
     "data": {
      "text/html": [
       "<div>\n",
       "<style scoped>\n",
       "    .dataframe tbody tr th:only-of-type {\n",
       "        vertical-align: middle;\n",
       "    }\n",
       "\n",
       "    .dataframe tbody tr th {\n",
       "        vertical-align: top;\n",
       "    }\n",
       "\n",
       "    .dataframe thead th {\n",
       "        text-align: right;\n",
       "    }\n",
       "</style>\n",
       "<table border=\"1\" class=\"dataframe\">\n",
       "  <thead>\n",
       "    <tr style=\"text-align: right;\">\n",
       "      <th></th>\n",
       "      <th>Temp</th>\n",
       "      <th>PM25</th>\n",
       "      <th>lux</th>\n",
       "      <th>VOC</th>\n",
       "      <th>CO</th>\n",
       "      <th>CO2</th>\n",
       "      <th>O3</th>\n",
       "      <th>RH</th>\n",
       "      <th>Pres</th>\n",
       "      <th>year</th>\n",
       "      <th>month</th>\n",
       "      <th>date</th>\n",
       "    </tr>\n",
       "  </thead>\n",
       "  <tbody>\n",
       "    <tr>\n",
       "      <th>count</th>\n",
       "      <td>789.000000</td>\n",
       "      <td>789.000000</td>\n",
       "      <td>789.000000</td>\n",
       "      <td>789.000000</td>\n",
       "      <td>789.000000</td>\n",
       "      <td>789.000000</td>\n",
       "      <td>789.000000</td>\n",
       "      <td>789.000000</td>\n",
       "      <td>789.000000</td>\n",
       "      <td>789.0</td>\n",
       "      <td>789.0</td>\n",
       "      <td>789.000000</td>\n",
       "    </tr>\n",
       "    <tr>\n",
       "      <th>mean</th>\n",
       "      <td>37.492484</td>\n",
       "      <td>168.704689</td>\n",
       "      <td>4.602028</td>\n",
       "      <td>2116.557668</td>\n",
       "      <td>0.783156</td>\n",
       "      <td>751.538657</td>\n",
       "      <td>172.599493</td>\n",
       "      <td>35.667060</td>\n",
       "      <td>991.640051</td>\n",
       "      <td>2022.0</td>\n",
       "      <td>5.0</td>\n",
       "      <td>21.631179</td>\n",
       "    </tr>\n",
       "    <tr>\n",
       "      <th>std</th>\n",
       "      <td>1.475620</td>\n",
       "      <td>7.414332</td>\n",
       "      <td>2.956760</td>\n",
       "      <td>9058.690054</td>\n",
       "      <td>0.363302</td>\n",
       "      <td>835.892127</td>\n",
       "      <td>8.475812</td>\n",
       "      <td>5.629144</td>\n",
       "      <td>7.262463</td>\n",
       "      <td>0.0</td>\n",
       "      <td>0.0</td>\n",
       "      <td>1.170531</td>\n",
       "    </tr>\n",
       "    <tr>\n",
       "      <th>min</th>\n",
       "      <td>29.620000</td>\n",
       "      <td>127.000000</td>\n",
       "      <td>0.000000</td>\n",
       "      <td>0.000000</td>\n",
       "      <td>0.170000</td>\n",
       "      <td>400.000000</td>\n",
       "      <td>129.000000</td>\n",
       "      <td>27.000000</td>\n",
       "      <td>980.000000</td>\n",
       "      <td>2022.0</td>\n",
       "      <td>5.0</td>\n",
       "      <td>20.000000</td>\n",
       "    </tr>\n",
       "    <tr>\n",
       "      <th>25%</th>\n",
       "      <td>37.760000</td>\n",
       "      <td>165.000000</td>\n",
       "      <td>2.000000</td>\n",
       "      <td>0.000000</td>\n",
       "      <td>0.590000</td>\n",
       "      <td>400.000000</td>\n",
       "      <td>168.000000</td>\n",
       "      <td>30.880000</td>\n",
       "      <td>985.000000</td>\n",
       "      <td>2022.0</td>\n",
       "      <td>5.0</td>\n",
       "      <td>21.000000</td>\n",
       "    </tr>\n",
       "    <tr>\n",
       "      <th>50%</th>\n",
       "      <td>38.070000</td>\n",
       "      <td>168.000000</td>\n",
       "      <td>5.000000</td>\n",
       "      <td>0.000000</td>\n",
       "      <td>0.720000</td>\n",
       "      <td>500.000000</td>\n",
       "      <td>172.000000</td>\n",
       "      <td>35.510000</td>\n",
       "      <td>991.000000</td>\n",
       "      <td>2022.0</td>\n",
       "      <td>5.0</td>\n",
       "      <td>21.000000</td>\n",
       "    </tr>\n",
       "    <tr>\n",
       "      <th>75%</th>\n",
       "      <td>38.270000</td>\n",
       "      <td>171.000000</td>\n",
       "      <td>7.000000</td>\n",
       "      <td>203.000000</td>\n",
       "      <td>0.890000</td>\n",
       "      <td>777.000000</td>\n",
       "      <td>175.000000</td>\n",
       "      <td>38.410000</td>\n",
       "      <td>998.000000</td>\n",
       "      <td>2022.0</td>\n",
       "      <td>5.0</td>\n",
       "      <td>22.000000</td>\n",
       "    </tr>\n",
       "    <tr>\n",
       "      <th>max</th>\n",
       "      <td>38.590000</td>\n",
       "      <td>227.000000</td>\n",
       "      <td>9.000000</td>\n",
       "      <td>60000.000000</td>\n",
       "      <td>2.730000</td>\n",
       "      <td>7016.000000</td>\n",
       "      <td>256.000000</td>\n",
       "      <td>53.330000</td>\n",
       "      <td>1004.000000</td>\n",
       "      <td>2022.0</td>\n",
       "      <td>5.0</td>\n",
       "      <td>24.000000</td>\n",
       "    </tr>\n",
       "  </tbody>\n",
       "</table>\n",
       "</div>"
      ],
      "text/plain": [
       "             Temp        PM25         lux           VOC          CO  \\\n",
       "count  789.000000  789.000000  789.000000    789.000000  789.000000   \n",
       "mean    37.492484  168.704689    4.602028   2116.557668    0.783156   \n",
       "std      1.475620    7.414332    2.956760   9058.690054    0.363302   \n",
       "min     29.620000  127.000000    0.000000      0.000000    0.170000   \n",
       "25%     37.760000  165.000000    2.000000      0.000000    0.590000   \n",
       "50%     38.070000  168.000000    5.000000      0.000000    0.720000   \n",
       "75%     38.270000  171.000000    7.000000    203.000000    0.890000   \n",
       "max     38.590000  227.000000    9.000000  60000.000000    2.730000   \n",
       "\n",
       "               CO2          O3          RH         Pres    year  month  \\\n",
       "count   789.000000  789.000000  789.000000   789.000000   789.0  789.0   \n",
       "mean    751.538657  172.599493   35.667060   991.640051  2022.0    5.0   \n",
       "std     835.892127    8.475812    5.629144     7.262463     0.0    0.0   \n",
       "min     400.000000  129.000000   27.000000   980.000000  2022.0    5.0   \n",
       "25%     400.000000  168.000000   30.880000   985.000000  2022.0    5.0   \n",
       "50%     500.000000  172.000000   35.510000   991.000000  2022.0    5.0   \n",
       "75%     777.000000  175.000000   38.410000   998.000000  2022.0    5.0   \n",
       "max    7016.000000  256.000000   53.330000  1004.000000  2022.0    5.0   \n",
       "\n",
       "             date  \n",
       "count  789.000000  \n",
       "mean    21.631179  \n",
       "std      1.170531  \n",
       "min     20.000000  \n",
       "25%     21.000000  \n",
       "50%     21.000000  \n",
       "75%     22.000000  \n",
       "max     24.000000  "
      ]
     },
     "execution_count": 10,
     "metadata": {},
     "output_type": "execute_result"
    }
   ],
   "source": [
    "data_curr_week.describe()"
   ]
  },
  {
   "cell_type": "code",
   "execution_count": null,
   "id": "a82caed6",
   "metadata": {},
   "outputs": [],
   "source": []
  },
  {
   "cell_type": "code",
   "execution_count": 11,
   "id": "58e634e6",
   "metadata": {},
   "outputs": [
    {
     "data": {
      "text/html": [
       "<div>\n",
       "<style scoped>\n",
       "    .dataframe tbody tr th:only-of-type {\n",
       "        vertical-align: middle;\n",
       "    }\n",
       "\n",
       "    .dataframe tbody tr th {\n",
       "        vertical-align: top;\n",
       "    }\n",
       "\n",
       "    .dataframe thead th {\n",
       "        text-align: right;\n",
       "    }\n",
       "</style>\n",
       "<table border=\"1\" class=\"dataframe\">\n",
       "  <thead>\n",
       "    <tr style=\"text-align: right;\">\n",
       "      <th></th>\n",
       "      <th>Current Week Average</th>\n",
       "      <th>Current Week Lowest</th>\n",
       "      <th>Current Week Highest</th>\n",
       "    </tr>\n",
       "  </thead>\n",
       "  <tbody>\n",
       "    <tr>\n",
       "      <th>Temp</th>\n",
       "      <td>37.492484</td>\n",
       "      <td>29.62</td>\n",
       "      <td>38.59</td>\n",
       "    </tr>\n",
       "    <tr>\n",
       "      <th>Pres</th>\n",
       "      <td>991.640051</td>\n",
       "      <td>980.00</td>\n",
       "      <td>1004.00</td>\n",
       "    </tr>\n",
       "    <tr>\n",
       "      <th>CO</th>\n",
       "      <td>0.783156</td>\n",
       "      <td>0.17</td>\n",
       "      <td>2.73</td>\n",
       "    </tr>\n",
       "    <tr>\n",
       "      <th>CO2</th>\n",
       "      <td>751.538657</td>\n",
       "      <td>400.00</td>\n",
       "      <td>7016.00</td>\n",
       "    </tr>\n",
       "    <tr>\n",
       "      <th>VOC</th>\n",
       "      <td>2116.557668</td>\n",
       "      <td>0.00</td>\n",
       "      <td>60000.00</td>\n",
       "    </tr>\n",
       "    <tr>\n",
       "      <th>lux</th>\n",
       "      <td>4.602028</td>\n",
       "      <td>0.00</td>\n",
       "      <td>9.00</td>\n",
       "    </tr>\n",
       "    <tr>\n",
       "      <th>RH</th>\n",
       "      <td>35.667060</td>\n",
       "      <td>27.00</td>\n",
       "      <td>53.33</td>\n",
       "    </tr>\n",
       "    <tr>\n",
       "      <th>PM25</th>\n",
       "      <td>168.704689</td>\n",
       "      <td>127.00</td>\n",
       "      <td>227.00</td>\n",
       "    </tr>\n",
       "    <tr>\n",
       "      <th>O3</th>\n",
       "      <td>172.599493</td>\n",
       "      <td>129.00</td>\n",
       "      <td>256.00</td>\n",
       "    </tr>\n",
       "  </tbody>\n",
       "</table>\n",
       "</div>"
      ],
      "text/plain": [
       "      Current Week Average  Current Week Lowest  Current Week Highest\n",
       "Temp             37.492484                29.62                 38.59\n",
       "Pres            991.640051               980.00               1004.00\n",
       "CO                0.783156                 0.17                  2.73\n",
       "CO2             751.538657               400.00               7016.00\n",
       "VOC            2116.557668                 0.00              60000.00\n",
       "lux               4.602028                 0.00                  9.00\n",
       "RH               35.667060                27.00                 53.33\n",
       "PM25            168.704689               127.00                227.00\n",
       "O3              172.599493               129.00                256.00"
      ]
     },
     "execution_count": 11,
     "metadata": {},
     "output_type": "execute_result"
    }
   ],
   "source": [
    "# table\n",
    "\n",
    "table = data_curr_week.describe().loc[['mean','min','max']].T\n",
    "table.rename(columns={'mean':'Current Week Average', 'max':'Current Week Highest', 'min':'Current Week Lowest'}, inplace=True)\n",
    "table = table.loc[['Temp', 'Pres', 'CO', 'CO2', 'VOC', 'lux', 'RH', 'PM25', 'O3']]\n",
    "table"
   ]
  },
  {
   "cell_type": "code",
   "execution_count": null,
   "id": "2bc08e97",
   "metadata": {},
   "outputs": [],
   "source": []
  },
  {
   "cell_type": "markdown",
   "id": "0d3b7707",
   "metadata": {},
   "source": [
    "### charts"
   ]
  },
  {
   "cell_type": "code",
   "execution_count": 12,
   "id": "043b37f4",
   "metadata": {},
   "outputs": [],
   "source": [
    "import matplotlib.pyplot as plt"
   ]
  },
  {
   "cell_type": "code",
   "execution_count": 13,
   "id": "2f5bc751",
   "metadata": {
    "scrolled": false
   },
   "outputs": [
    {
     "data": {
      "image/png": "[encoded data removed]",
      "text/plain": [
       "<Figure size 432x288 with 1 Axes>"
      ]
     },
     "metadata": {
      "needs_background": "light"
     },
     "output_type": "display_data"
    },
    {
     "data": {
      "image/png": "[encoded data removed]",
      "text/plain": [
       "<Figure size 432x288 with 1 Axes>"
      ]
     },
     "metadata": {
      "needs_background": "light"
     },
     "output_type": "display_data"
    },
    {
     "data": {
      "image/png": "[encoded data removed]",
      "text/plain": [
       "<Figure size 432x288 with 1 Axes>"
      ]
     },
     "metadata": {
      "needs_background": "light"
     },
     "output_type": "display_data"
    },
    {
     "data": {
      "image/png": "[encoded data removed]",
      "text/plain": [
       "<Figure size 432x288 with 1 Axes>"
      ]
     },
     "metadata": {
      "needs_background": "light"
     },
     "output_type": "display_data"
    },
    {
     "data": {
      "image/png": "[encoded data removed]",
      "text/plain": [
       "<Figure size 432x288 with 1 Axes>"
      ]
     },
     "metadata": {
      "needs_background": "light"
     },
     "output_type": "display_data"
    },
    {
     "data": {
      "image/png": "[encoded data removed]",
      "text/plain": [
       "<Figure size 432x288 with 1 Axes>"
      ]
     },
     "metadata": {
      "needs_background": "light"
     },
     "output_type": "display_data"
    },
    {
     "data": {
      "image/png": "[encoded data removed]",
      "text/plain": [
       "<Figure size 432x288 with 1 Axes>"
      ]
     },
     "metadata": {
      "needs_background": "light"
     },
     "output_type": "display_data"
    },
    {
     "data": {
      "image/png": "[encoded data removed]",
      "text/plain": [
       "<Figure size 432x288 with 1 Axes>"
      ]
     },
     "metadata": {
      "needs_background": "light"
     },
     "output_type": "display_data"
    },
    {
     "data": {
      "image/png": "[encoded data removed]",
      "text/plain": [
       "<Figure size 432x288 with 1 Axes>"
      ]
     },
     "metadata": {
      "needs_background": "light"
     },
     "output_type": "display_data"
    }
   ],
   "source": [
    "list_of_items = ['Temp', 'Pres', 'CO', 'CO2', 'VOC', 'lux', 'RH', 'PM25', 'O3']\n",
    "colours = ['blue', 'orange']\n",
    "\n",
    "# MANUAL\n",
    "weekend_data = data_curr_week[(data_curr_week['date'] == 21) | (data_curr_week['date'] == 22)]\n",
    "weekday_data = pd.concat([data_curr_week, weekend_data]).drop_duplicates(subset=['id'], keep=False)\n",
    "\n",
    "for it in list_of_items :\n",
    "    curr_item_list = [weekday_data[it].mean(), weekend_data[it].mean()]\n",
    "    plt.bar(['Weekday', 'Weekend'], curr_item_list, color=colours)\n",
    "    plt.xlabel('Day Type')\n",
    "    plt.ylabel(it+' Avg.')\n",
    "    plt.title(it+' Trend')\n",
    "    plt.show()"
   ]
  },
  {
   "cell_type": "markdown",
   "id": "049a22bb",
   "metadata": {},
   "source": [
    "## 0nly 5 days data in week"
   ]
  },
  {
   "cell_type": "code",
   "execution_count": 14,
   "id": "a0dd37c3",
   "metadata": {},
   "outputs": [
    {
     "data": {
      "text/plain": [
       "21    281\n",
       "22    280\n",
       "20    116\n",
       "24    110\n",
       "23      2\n",
       "Name: date, dtype: int64"
      ]
     },
     "execution_count": 14,
     "metadata": {},
     "output_type": "execute_result"
    }
   ],
   "source": [
    "data_curr_week['date'].value_counts()"
   ]
  }
 ],
 "metadata": {
  "kernelspec": {
   "display_name": "Python 3 (ipykernel)",
   "language": "python",
   "name": "python3"
  },
  "language_info": {
   "codemirror_mode": {
    "name": "ipython",
    "version": 3
   },
   "file_extension": ".py",
   "mimetype": "text/x-python",
   "name": "python",
   "nbconvert_exporter": "python",
   "pygments_lexer": "ipython3",
   "version": "3.9.7"
  }
 },
 "nbformat": 4,
 "nbformat_minor": 5
}
